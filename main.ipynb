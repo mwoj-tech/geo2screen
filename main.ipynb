{
 "cells": [
  {
   "cell_type": "markdown",
   "id": "be3800c3-7347-46e3-8f5a-270ca22e38b0",
   "metadata": {},
   "source": [
    "### Test\n",
    "Testing the noteboook"
   ]
  },
  {
   "cell_type": "code",
   "execution_count": null,
   "id": "e67a3b34-bda2-419e-9be8-e583985a4aed",
   "metadata": {},
   "outputs": [],
   "source": [
    "%matplotlib inline"
   ]
  },
  {
   "cell_type": "code",
   "execution_count": null,
   "id": "5901520b-52f7-45a4-9523-be9776d7ee12",
   "metadata": {},
   "outputs": [],
   "source": [
    "import geopandas as gpd\n",
    "import matplotlib.pyplot as plt\n",
    "import numpy as np\n",
    "from shapely.affinity import affine_transform"
   ]
  },
  {
   "cell_type": "code",
   "execution_count": null,
   "id": "2209c726-b007-4f7d-9a32-b1c4543b67a1",
   "metadata": {},
   "outputs": [],
   "source": [
    "# Replace 'path/to/your_shapefile.shp' with the actual path to your shapefile\n",
    "geojson_path = '2024-01-24_siedlce_2180.geojson'\n",
    "\n",
    "# Siedlce OSM: '2024-01-24_siedlce_2180.geojson'\n",
    "# Siedlce ELEMENTY SIECIOWE: '2024-01-24_elem-siec_isa.geojson'\n",
    "# Siedlce EIK: '2024-01-31_siedlce_EIK_2180.geojson'\n",
    "# Warka OSM: '2024-01-31_warka_osm_2180.geojson'\n",
    "#Skierniewice:\n"
   ]
  },
  {
   "cell_type": "code",
   "execution_count": null,
   "id": "8f580738-7542-45b1-9187-f707e5f80632",
   "metadata": {},
   "outputs": [],
   "source": [
    "# Read the shapefile\n",
    "gdf = gpd.read_file(geojson_path)"
   ]
  },
  {
   "cell_type": "code",
   "execution_count": null,
   "id": "357c2bc5-eec0-4a25-aaad-b4bb878f2b54",
   "metadata": {},
   "outputs": [],
   "source": [
    "# Explore the GeoDataFrame\n",
    "print(gdf.head())"
   ]
  },
  {
   "cell_type": "code",
   "execution_count": null,
   "id": "364d2af2-1e5c-427f-b936-d59572e7e3eb",
   "metadata": {},
   "outputs": [],
   "source": [
    "# Visualize the data\n",
    "gdf.plot(figsize=(15, 15))"
   ]
  },
  {
   "cell_type": "code",
   "execution_count": null,
   "id": "14a25135-a7b8-4c52-ab2c-e5ce53daaa6b",
   "metadata": {},
   "outputs": [],
   "source": [
    "rotate_angle = 38\n",
    "\n",
    "#Siedlce: 38"
   ]
  },
  {
   "cell_type": "code",
   "execution_count": null,
   "id": "d63e33bc-2200-459b-9304-fe543d1465db",
   "metadata": {},
   "outputs": [],
   "source": [
    "df_rotated2 = gdf.rotate(rotate_angle, origin=gdf.unary_union.centroid)"
   ]
  },
  {
   "cell_type": "code",
   "execution_count": null,
   "id": "62bc4daa-3a77-40f8-9e03-a758c7a4fc48",
   "metadata": {
    "scrolled": true
   },
   "outputs": [],
   "source": [
    "df_rotated2.plot(figsize=(20, 20))"
   ]
  },
  {
   "cell_type": "code",
   "execution_count": null,
   "id": "c2118f07-9361-4225-b412-473964f5004e",
   "metadata": {},
   "outputs": [],
   "source": [
    "# Explore the GeoDataFrame\n",
    "print(gdf.head())"
   ]
  },
  {
   "cell_type": "code",
   "execution_count": null,
   "id": "9ecb7f03-82b7-490c-8220-89a972da9994",
   "metadata": {},
   "outputs": [],
   "source": [
    "# Explore the GeoDataFrame\n",
    "print(df_rotated2.head())"
   ]
  },
  {
   "cell_type": "code",
   "execution_count": null,
   "id": "cd025c00-2695-4a14-8ae2-6596b72be878",
   "metadata": {},
   "outputs": [],
   "source": [
    "# TO DELETE\n",
    "\n",
    "# Save the GeoDataFrame as a GeoJSON file\n",
    "df_rotated2.to_file('temp.geojson', driver='GeoJSON')"
   ]
  },
  {
   "cell_type": "code",
   "execution_count": null,
   "id": "ee181fc9-a514-4020-9569-82710f8d3888",
   "metadata": {},
   "outputs": [],
   "source": [
    "#TO DELETE\n",
    "geojson_path2 = 'temp.geojson'"
   ]
  },
  {
   "cell_type": "code",
   "execution_count": null,
   "id": "ffeb208a-b291-4f5f-92cd-1ff61898f005",
   "metadata": {},
   "outputs": [],
   "source": [
    "# Wczytaj plik GeoJSON\n",
    "gdf = gpd.read_file(geojson_path2)"
   ]
  },
  {
   "cell_type": "code",
   "execution_count": null,
   "id": "f2d5050f-bf1f-4116-95a5-b1156120409f",
   "metadata": {},
   "outputs": [],
   "source": [
    "# Oblicz minimalne współrzędne (xmin, ymin) dla każdego z geometrii\n",
    "min_coords = gdf.bounds.min()"
   ]
  },
  {
   "cell_type": "code",
   "execution_count": null,
   "id": "57319360-1736-453d-aa4c-4676abf4773f",
   "metadata": {},
   "outputs": [],
   "source": [
    "# Przesuń wszystkie geometrie w lewo i w dół o wartości minimalnych współrzędnych\n",
    "gdf['geometry'] = gdf.translate(xoff=-min_coords['minx'], yoff=-min_coords['miny'])"
   ]
  },
  {
   "cell_type": "code",
   "execution_count": null,
   "id": "21d06c6f-03bd-4545-8545-1208512151f1",
   "metadata": {},
   "outputs": [],
   "source": [
    "# Explore the GeoDataFrame\n",
    "print(gdf.head())"
   ]
  },
  {
   "cell_type": "code",
   "execution_count": null,
   "id": "c387d85a-d899-480e-9969-2e0d2a458d2f",
   "metadata": {},
   "outputs": [],
   "source": [
    "gdf.plot(figsize=(20, 20))"
   ]
  },
  {
   "cell_type": "code",
   "execution_count": null,
   "id": "6e04a2d3-d970-48b8-8907-b3d7d5531e2f",
   "metadata": {},
   "outputs": [],
   "source": [
    "# Function to scale the x-coordinates by a factor\n",
    "def scale_x(geometry, factor):\n",
    "    return affine_transform(geometry, [factor, 0, 0, 1, 0, 0])"
   ]
  },
  {
   "cell_type": "code",
   "execution_count": null,
   "id": "5753503a-c84d-45de-b3d1-2fcba65e14be",
   "metadata": {},
   "outputs": [],
   "source": [
    "# Apply the scaling operation to the geometry column\n",
    "gdf['geometry'] = gdf['geometry'].apply(scale_x, factor=1/4)"
   ]
  },
  {
   "cell_type": "code",
   "execution_count": null,
   "id": "c5773290-2624-4537-8fda-0410d56c8f97",
   "metadata": {},
   "outputs": [],
   "source": [
    "# Explore the GeoDataFrame\n",
    "print(gdf.head())"
   ]
  },
  {
   "cell_type": "code",
   "execution_count": null,
   "id": "bde0770c-373a-49fe-9d54-862b73b13b11",
   "metadata": {},
   "outputs": [],
   "source": [
    "df_rotated3 = gdf.rotate(-5, origin=gdf.unary_union.centroid)"
   ]
  },
  {
   "cell_type": "code",
   "execution_count": null,
   "id": "119f371d-5814-4560-974f-7a196082453d",
   "metadata": {},
   "outputs": [],
   "source": [
    "df_rotated3.plot(figsize=(20, 20))"
   ]
  },
  {
   "cell_type": "code",
   "execution_count": null,
   "id": "be5e7bb0-7d0e-433e-a8ff-3552df0817c9",
   "metadata": {},
   "outputs": [],
   "source": [
    "print(df_rotated3.head())"
   ]
  },
  {
   "cell_type": "code",
   "execution_count": null,
   "id": "bba41415-d323-47ad-b0ae-8971b62b36c2",
   "metadata": {},
   "outputs": [],
   "source": [
    "# Save the GeoDataFrame as a GeoJSON file\n",
    "df_rotated3.to_file('2024-01-24_elem-siec_isa_rotated.geojson', driver='GeoJSON')"
   ]
  },
  {
   "cell_type": "code",
   "execution_count": null,
   "id": "ed4ce11a-d4c3-47e8-868c-d185a4c98f93",
   "metadata": {},
   "outputs": [],
   "source": [
    "import geopandas as gpd\n",
    "from shapely.geometry import mapping\n",
    "import xml.etree.ElementTree as ET\n",
    "from xml.dom import minidom\n",
    "\n",
    "\n",
    "# RailML XML namespace\n",
    "railml_ns = {\"railml\": \"http://www.railml.org/schemas/2013\"}\n",
    "\n",
    "# Create RailML XML document\n",
    "railml_root = ET.Element(\"railml\", nsmap=railml_ns)\n",
    "\n",
    "# Iterate through GeoDataFrame features\n",
    "for index, row in gdf.iterrows():\n",
    "    # Extract geometry from GeoDataFrame\n",
    "    geometry = row['geometry']\n",
    "\n",
    "    # Convert Shapely geometry to GeoJSON-like dictionary\n",
    "    geometry_dict = mapping(geometry)\n",
    "\n",
    "    # Create RailML track element\n",
    "    track_element = ET.SubElement(railml_root, \"track\", nsmap=railml_ns)\n",
    "\n",
    "    # Create RailML geometry element\n",
    "    geometry_element = ET.SubElement(track_element, \"geometry\", nsmap=railml_ns)\n",
    "\n",
    "    # Add RailML point elements based on GeoJSON-like geometry\n",
    "    for coord in geometry_dict['coordinates']:\n",
    "        point_element = ET.SubElement(geometry_element, \"point\", nsmap=railml_ns)\n",
    "        point_element.set(\"x\", str(coord[0]))\n",
    "        point_element.set(\"y\", str(coord[1]))\n",
    "        # Add additional attributes as needed\n",
    "\n",
    "# Create a formatted XML string\n",
    "xml_string = ET.tostring(railml_root, encoding='utf-8')\n",
    "xml_pretty_string = minidom.parseString(xml_string).toprettyxml(indent=\"  \")\n",
    "\n",
    "# Save or print the RailML XML\n",
    "with open(\"output_railml.xml\", \"w\") as xml_file:\n",
    "    xml_file.write(xml_pretty_string)\n"
   ]
  },
  {
   "cell_type": "code",
   "execution_count": null,
   "id": "6e8fb34c-8e77-44c8-850e-f81adf93a5e6",
   "metadata": {},
   "outputs": [],
   "source": [
    "# Save the RailML XML to a file\n",
    "output_file_path = \"output_railml.xml\"\n",
    "with open(output_file_path, \"w\") as xml_file:\n",
    "    xml_file.write(xml_pretty_string)\n",
    "\n",
    "# Print a message indicating where the XML is saved\n",
    "print(f\"RailML XML saved to: {output_file_path}\")"
   ]
  }
 ],
 "metadata": {
  "kernelspec": {
   "display_name": "Python 3 (ipykernel)",
   "language": "python",
   "name": "python3"
  },
  "language_info": {
   "codemirror_mode": {
    "name": "ipython",
    "version": 3
   },
   "file_extension": ".py",
   "mimetype": "text/x-python",
   "name": "python",
   "nbconvert_exporter": "python",
   "pygments_lexer": "ipython3",
   "version": "3.12.1"
  }
 },
 "nbformat": 4,
 "nbformat_minor": 5
}
